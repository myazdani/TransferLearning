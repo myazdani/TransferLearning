{
 "cells": [
  {
   "cell_type": "code",
   "execution_count": null,
   "metadata": {
    "collapsed": true
   },
   "outputs": [],
   "source": [
    "import xml.etree.ElementTree as ET\n",
    "import os\n",
    "import pandas as pd"
   ]
  },
  {
   "cell_type": "code",
   "execution_count": null,
   "metadata": {
    "collapsed": true
   },
   "outputs": [],
   "source": [
    "jpg_path = \"/home/myazdani/Documents/PreTrainedLearning/data/VOC2007/VOCtrainval_06-Nov-2007/VOC2007/JPEGImages/\"\n",
    "out_path = \"../../data/VOC2007/VOC-training.pkl\"\n",
    "src_path, data_type = \"../data/VOC2007/VOCtrainval_06-Nov-2007/VOC2007/Annotations/\", \".xml\"\n",
    " \n",
    "xml_paths = []  \n",
    "for root, dirs, files in os.walk(src_path):\n",
    "    xml_paths.extend([os.path.join(root, f) for f in files if f.endswith(data_type)])"
   ]
  },
  {
   "cell_type": "markdown",
   "metadata": {},
   "source": [
    "XML parse example:"
   ]
  },
  {
   "cell_type": "code",
   "execution_count": null,
   "metadata": {
    "collapsed": false
   },
   "outputs": [],
   "source": [
    "tree = ET.parse(xml_paths[4])\n",
    "root = tree.getroot()\n",
    "print root.find(\"filename\").text\n",
    "for label in root.iter(\"object\"):\n",
    "    print label.find(\"name\").text"
   ]
  },
  {
   "cell_type": "markdown",
   "metadata": {},
   "source": [
    "Parse all XML files:"
   ]
  },
  {
   "cell_type": "code",
   "execution_count": null,
   "metadata": {
    "collapsed": true
   },
   "outputs": [],
   "source": [
    "image_labels = {}\n",
    "for xml_path in xml_paths:\n",
    "    tree = ET.parse(xml_path)\n",
    "    root = tree.getroot()\n",
    "    image_name = root.find(\"filename\").text\n",
    "    labels = []\n",
    "    for label in root.iter(\"object\"):\n",
    "        labels.append(label.find(\"name\").text)\n",
    "    image_labels[xml_path.split(\"/\")[-1]] = (image_name, labels)"
   ]
  },
  {
   "cell_type": "code",
   "execution_count": null,
   "metadata": {
    "collapsed": false
   },
   "outputs": [],
   "source": [
    "image_paths = []\n",
    "labels = []\n",
    "for key in image_labels.keys():\n",
    "    image_paths.append(jpg_path + image_labels[key][0])\n",
    "    labels.append(image_labels[key][1])"
   ]
  },
  {
   "cell_type": "code",
   "execution_count": null,
   "metadata": {
    "collapsed": false
   },
   "outputs": [],
   "source": [
    "df = pd.DataFrame({'image.paths': image_paths, 'classes': labels})\n",
    "df.head()"
   ]
  },
  {
   "cell_type": "code",
   "execution_count": null,
   "metadata": {
    "collapsed": true
   },
   "outputs": [],
   "source": [
    "df "
   ]
  }
 ],
 "metadata": {
  "kernelspec": {
   "display_name": "Python 2",
   "language": "python",
   "name": "python2"
  },
  "language_info": {
   "codemirror_mode": {
    "name": "ipython",
    "version": 2
   },
   "file_extension": ".py",
   "mimetype": "text/x-python",
   "name": "python",
   "nbconvert_exporter": "python",
   "pygments_lexer": "ipython2",
   "version": "2.7.11"
  }
 },
 "nbformat": 4,
 "nbformat_minor": 0
}
